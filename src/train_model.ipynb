{
  "cells": [
    {
      "cell_type": "markdown",
      "id": "c9cba8b9",
      "metadata": {
        "id": "c9cba8b9"
      },
      "source": [
        "### 🧩 Imports\n",
        "\n",
        "Import all the necessary libraries:\n",
        "- `json` for reading/writing JSON files.\n",
        "- `pandas` and `numpy` for data manipulation.\n",
        "- `random` for generating random synthetic data.\n",
        "- `IsolationForest` from `sklearn` for anomaly detection.\n",
        "- `joblib` for saving the trained model."
      ]
    },
    {
      "cell_type": "code",
      "execution_count": 11,
      "id": "a807fa48",
      "metadata": {
        "id": "a807fa48"
      },
      "outputs": [],
      "source": [
        "import json\n",
        "import pandas as pd\n",
        "from sklearn.ensemble import IsolationForest\n",
        "import numpy as np\n",
        "import random\n",
        "import joblib"
      ]
    },
    {
      "cell_type": "markdown",
      "id": "66939a62",
      "metadata": {
        "id": "66939a62"
      },
      "source": [
        "### 📊 Generate Dataset\n",
        "\n",
        "Create synthetic \"normal\" network traffic data to train an anomaly detection model. Each sample includes:\n",
        "\n",
        "- `src_port`: randomly selected from common service ports.\n",
        "- `dst_port`: a random high port number.\n",
        "- `packet_size`: typical packet sizes.\n",
        "- `duration_ms`: duration of the communication.\n",
        "- `protocol`: randomly selected between TCP and UDP.\n",
        "\n",
        "This data is saved to `training_data.json` for future use."
      ]
    },
    {
      "cell_type": "code",
      "execution_count": 12,
      "id": "870cc066",
      "metadata": {
        "colab": {
          "base_uri": "https://localhost:8080/",
          "height": 193
        },
        "id": "870cc066",
        "outputId": "1f89d05a-87c7-4408-9bde-d34ee9c4d658"
      },
      "outputs": [
        {
          "output_type": "error",
          "ename": "FileNotFoundError",
          "evalue": "[Errno 2] No such file or directory: '../dataset/training_data.json'",
          "traceback": [
            "\u001b[0;31m---------------------------------------------------------------------------\u001b[0m",
            "\u001b[0;31mFileNotFoundError\u001b[0m                         Traceback (most recent call last)",
            "\u001b[0;32m<ipython-input-12-3719726770>\u001b[0m in \u001b[0;36m<cell line: 0>\u001b[0;34m()\u001b[0m\n\u001b[1;32m     12\u001b[0m \u001b[0mdataset\u001b[0m \u001b[0;34m=\u001b[0m \u001b[0;34m[\u001b[0m\u001b[0mgenerate_normal_data\u001b[0m\u001b[0;34m(\u001b[0m\u001b[0;34m)\u001b[0m \u001b[0;32mfor\u001b[0m \u001b[0m_\u001b[0m \u001b[0;32min\u001b[0m \u001b[0mrange\u001b[0m\u001b[0;34m(\u001b[0m\u001b[0;36m1000\u001b[0m\u001b[0;34m)\u001b[0m\u001b[0;34m]\u001b[0m\u001b[0;34m\u001b[0m\u001b[0;34m\u001b[0m\u001b[0m\n\u001b[1;32m     13\u001b[0m \u001b[0;34m\u001b[0m\u001b[0m\n\u001b[0;32m---> 14\u001b[0;31m \u001b[0;32mwith\u001b[0m \u001b[0mopen\u001b[0m\u001b[0;34m(\u001b[0m\u001b[0;34m\"../dataset/training_data.json\"\u001b[0m\u001b[0;34m,\u001b[0m \u001b[0;34m\"w\"\u001b[0m\u001b[0;34m)\u001b[0m \u001b[0;32mas\u001b[0m \u001b[0mf\u001b[0m\u001b[0;34m:\u001b[0m\u001b[0;34m\u001b[0m\u001b[0;34m\u001b[0m\u001b[0m\n\u001b[0m\u001b[1;32m     15\u001b[0m     \u001b[0mjson\u001b[0m\u001b[0;34m.\u001b[0m\u001b[0mdump\u001b[0m\u001b[0;34m(\u001b[0m\u001b[0mdataset\u001b[0m\u001b[0;34m,\u001b[0m \u001b[0mf\u001b[0m\u001b[0;34m,\u001b[0m \u001b[0mindent\u001b[0m\u001b[0;34m=\u001b[0m\u001b[0;36m2\u001b[0m\u001b[0;34m)\u001b[0m\u001b[0;34m\u001b[0m\u001b[0;34m\u001b[0m\u001b[0m\n",
            "\u001b[0;31mFileNotFoundError\u001b[0m: [Errno 2] No such file or directory: '../dataset/training_data.json'"
          ]
        }
      ],
      "source": [
        "COMMON_PORTS = [80, 443, 22, 8080]\n",
        "\n",
        "def generate_normal_data():\n",
        "    return {\n",
        "        \"src_port\": random.choice(COMMON_PORTS),\n",
        "        \"dst_port\": random.randint(1024, 65535),\n",
        "        \"packet_size\": random.randint(100, 1500),\n",
        "        \"duration_ms\": random.randint(50, 500),\n",
        "        \"protocol\": random.choice([\"TCP\", \"UDP\"])\n",
        "    }\n",
        "\n",
        "dataset = [generate_normal_data() for _ in range(1000)]\n",
        "\n",
        "with open(\"../dataset/training_data.json\", \"w\") as f:\n",
        "    json.dump(dataset, f, indent=2)\n"
      ]
    },
    {
      "cell_type": "code",
      "execution_count": null,
      "id": "1dd53134",
      "metadata": {
        "id": "1dd53134"
      },
      "outputs": [],
      "source": [
        "with open(\"./dataset/training_data.json\") as f:\n",
        "    raw_data = json.load(f)\n",
        "\n",
        "df = pd.DataFrame(raw_data)\n",
        "display(df)"
      ]
    },
    {
      "cell_type": "markdown",
      "id": "439e560b",
      "metadata": {
        "id": "439e560b"
      },
      "source": [
        "### 🧼 Preprocessing Function\n",
        "\n",
        "Machine learning models like Isolation Forest require **numerical input only**. Any categorical variables, such as the `protocol` column (`TCP`, `UDP`), must be converted into numbers.\n",
        "\n",
        "We handle this with **one-hot encoding**, using `pd.get_dummies`.\n",
        "\n",
        "#### 🛠️ Preprocessing Steps:\n",
        "\n",
        "1. **Identify categorical columns**:\n",
        "   - In our case, the `protocol` column is categorical (`TCP`, `UDP`).\n",
        "\n",
        "2. **Use `pd.get_dummies`**:\n",
        "   - This creates a new binary column for each category.\n",
        "   - For instance:\n",
        "     ```\n",
        "     protocol\n",
        "     ---------\n",
        "     TCP   →   protocol_UDP = 0\n",
        "     UDP   →   protocol_UDP = 1\n",
        "     ```\n",
        "   - Setting `drop_first=True` prevents multicollinearity by dropping the first category (`TCP` here), as it can be inferred from the others.\n",
        "\n",
        "3. **Return a DataFrame with all numerical values**:\n",
        "   - This is ready for model input.\n",
        "\n",
        "> ✅ This preprocessing is essential to avoid errors during training and ensure the model can learn from categorical variables."
      ]
    },
    {
      "cell_type": "code",
      "execution_count": null,
      "id": "aae1de67",
      "metadata": {
        "id": "aae1de67"
      },
      "outputs": [],
      "source": [
        "def preprocess_data(df):\n",
        "    #TODO 1: Implement preprocessing steps\n",
        "    return np.array(df)"
      ]
    },
    {
      "cell_type": "markdown",
      "id": "7c5bf7fa",
      "metadata": {
        "id": "7c5bf7fa"
      },
      "source": [
        "### 🤖 Train Isolation Forest\n",
        "\n",
        "The `IsolationForest` algorithm is an unsupervised model used to detect anomalies. It isolates observations by randomly selecting features and splitting values.\n",
        "\n",
        "- `n_estimators=100`: number of trees in the forest.\n",
        "- `contamination=0.01`: assumes 1% of the data is anomalous.\n",
        "- `random_state=42`: ensures reproducibility.\n",
        "\n",
        "The model is trained on the preprocessed numerical dataset."
      ]
    },
    {
      "cell_type": "code",
      "execution_count": null,
      "id": "1226cc18",
      "metadata": {
        "id": "1226cc18"
      },
      "outputs": [],
      "source": [
        "model = IsolationForest(contamination=0.1, random_state=42)\n",
        "model.fit()"
      ]
    },
    {
      "cell_type": "markdown",
      "id": "b3d27677",
      "metadata": {
        "id": "b3d27677"
      },
      "source": [
        "### 💾 Save Trained Model\n",
        "\n",
        "Save the trained model using `joblib`, which allows for efficient serialization and deserialization. This saved model can be reused later for inference or deployment.\n"
      ]
    },
    {
      "cell_type": "code",
      "execution_count": null,
      "id": "1205b791",
      "metadata": {
        "id": "1205b791"
      },
      "outputs": [],
      "source": [
        "joblib.dump(model, \"anomaly_model.joblib\")"
      ]
    },
    {
      "cell_type": "markdown",
      "id": "aca5c30c",
      "metadata": {
        "id": "aca5c30c"
      },
      "source": [
        "# predict data"
      ]
    },
    {
      "cell_type": "code",
      "execution_count": null,
      "id": "50cd9507",
      "metadata": {
        "id": "50cd9507"
      },
      "outputs": [],
      "source": [
        "model.predict()"
      ]
    }
  ],
  "metadata": {
    "kernelspec": {
      "display_name": "university",
      "language": "python",
      "name": "python3"
    },
    "language_info": {
      "codemirror_mode": {
        "name": "ipython",
        "version": 3
      },
      "file_extension": ".py",
      "mimetype": "text/x-python",
      "name": "python",
      "nbconvert_exporter": "python",
      "pygments_lexer": "ipython3",
      "version": "3.11.11"
    },
    "colab": {
      "provenance": [],
      "toc_visible": true
    }
  },
  "nbformat": 4,
  "nbformat_minor": 5
}